{
  "nbformat": 4,
  "nbformat_minor": 0,
  "metadata": {
    "colab": {
      "provenance": []
    },
    "kernelspec": {
      "name": "python3",
      "display_name": "Python 3"
    },
    "language_info": {
      "name": "python"
    }
  },
  "cells": [
    {
      "cell_type": "markdown",
      "source": [
        "In this lab, you will create three different conversion tools:\n",
        "\n",
        "A Kilometer to Mile Conversion Tool.\n",
        "A Celsius to Fahrenheit Conversion Tool\n",
        "A Binary to Decimal Conversion Tool.\n",
        "\n",
        "\n",
        "Task 1: Kilometer to Mile Conversion (1pt)\n",
        "Write a program that converts kilometers to miles.\n",
        "The program should prompt the user to enter a distance in kilometers (via filling in an appropriately named variable) and then display the equivalent distance in miles.\n",
        "\n",
        "\n",
        "Task 2: Celsius to Fahrenheit Conversion (2pts)\n",
        "Write a program that converts temperatures from Celsius to Fahrenheit.\n",
        "The program should prompt the user to enter a temperature in Celsius (again, via filling in an appropriately named variable) and then display the equivalent temperature in Fahrenheit.\n",
        "\n",
        "\n",
        "Task 3: Binary to Decimal Converter (2pts)\n",
        "Following the Binary to Decimal conversion formula we learned in class, convert `101101000` into decimal form and display it.\n",
        "Enter the entire formula into python and have it perform the computation"
      ],
      "metadata": {
        "id": "2N6NlyzLRT_6"
      }
    },
    {
      "cell_type": "code",
      "execution_count": 2,
      "metadata": {
        "colab": {
          "base_uri": "https://localhost:8080/"
        },
        "id": "cLW6_r_WRQbB",
        "outputId": "51b001d0-72df-4f88-b324-433da50b1fbb"
      },
      "outputs": [
        {
          "output_type": "stream",
          "name": "stdout",
          "text": [
            "Please give a distance in kilometers: 10\n",
            "6.2137273664981\n"
          ]
        }
      ],
      "source": [
        "km = input(\"Please give a distance in kilometers: \")\n",
        "miles = int(km)*0.62137273664981\n",
        "print(miles)"
      ]
    },
    {
      "cell_type": "code",
      "source": [
        "celsius = input(\"Please give a temperature in celsius: \")\n",
        "fahrenheit = (int(celsius)*(9/5))+32\n",
        "print(fahrenheit)"
      ],
      "metadata": {
        "colab": {
          "base_uri": "https://localhost:8080/"
        },
        "id": "VDC9M0unR9BC",
        "outputId": "7ba861fa-1f73-42ce-a626-d31f1121056b"
      },
      "execution_count": 4,
      "outputs": [
        {
          "output_type": "stream",
          "name": "stdout",
          "text": [
            "Please give a temperature in celsius: 100\n",
            "212.0\n"
          ]
        }
      ]
    },
    {
      "cell_type": "markdown",
      "source": [
        "Step-by-Step Method:\n",
        "\n",
        "Write down the binary number.\n",
        "Assign powers of 2 to each digit, starting from the right (starting with\n",
        ").\n",
        "Multiply each bit by its corresponding power of 2.\n",
        "Sum all the products to get the decimal equivalent."
      ],
      "metadata": {
        "id": "ts8WQHocVGAf"
      }
    },
    {
      "cell_type": "code",
      "source": [
        "binary_number =\"101101000\"\n",
        "decimal_number = int(binary_number, 2)\n",
        "print(decimal_number)\n"
      ],
      "metadata": {
        "colab": {
          "base_uri": "https://localhost:8080/"
        },
        "id": "bU6mcsq0TyXE",
        "outputId": "568594b5-56b9-4242-d7df-5a170fcb6a0e"
      },
      "execution_count": 5,
      "outputs": [
        {
          "output_type": "stream",
          "name": "stdout",
          "text": [
            "360\n"
          ]
        }
      ]
    }
  ]
}