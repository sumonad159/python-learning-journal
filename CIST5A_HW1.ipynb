{
  "cells": [
    {
      "cell_type": "markdown",
      "id": "191a475a",
      "metadata": {
        "id": "191a475a"
      },
      "source": [
        "\n",
        "# Homework: Introduction to Python\n",
        "\n",
        "In this homework assignment, you'll practice what you've learned so far: variables, types, operators, errors, and print statements. Complete each part and submit your notebook when you're done.\n",
        "\n",
        "**Instructions:**\n",
        "- Write your code in the provided cells.\n",
        "- Run each cell to check your results.\n",
        "- Submit your completed notebook by the due date.\n"
      ]
    },
    {
      "cell_type": "markdown",
      "id": "1a66deb5",
      "metadata": {
        "id": "1a66deb5"
      },
      "source": [
        "\n",
        "## Part 1: Variables and Types\n",
        "\n",
        "### Exercise 1\n",
        "Create variables of the following types: `int`, `float`, and `str`. Assign any values you like to them and print each one.\n"
      ]
    },
    {
      "cell_type": "code",
      "source": [
        "integer_variable = 8\n",
        "float_variable = 3.145926535\n",
        "string_variable = \"I used to know more digits of pi\"\n",
        "print(integer_variable)\n",
        "print(float_variable)\n",
        "print(string_variable)"
      ],
      "metadata": {
        "id": "lyl__MZGvkzb",
        "colab": {
          "base_uri": "https://localhost:8080/"
        },
        "outputId": "52ab0012-127f-4703-8195-6740f61f56ab"
      },
      "id": "lyl__MZGvkzb",
      "execution_count": null,
      "outputs": [
        {
          "output_type": "stream",
          "name": "stdout",
          "text": [
            "8\n",
            "3.145926535\n",
            "I used to know more digits of pi\n"
          ]
        }
      ]
    },
    {
      "cell_type": "markdown",
      "id": "48c9443a",
      "metadata": {
        "id": "48c9443a"
      },
      "source": [
        "\n",
        "### Exercise 2\n",
        "The following code contains errors. Identify and correct them.\n"
      ]
    },
    {
      "cell_type": "code",
      "source": [
        "\n",
        "# The code below has errors. Fix them.\n",
        "# The error was trying to add a string (10 in quotes) and a float. Then also you cannot concatenate string + float.\n",
        "my_number = 10\n",
        "my_float = 5.0\n",
        "result = my_number + my_float\n",
        "print(\"The result is: \" + str(result))\n",
        "\n",
        "\n"
      ],
      "metadata": {
        "id": "SvF8gutvvnZD",
        "colab": {
          "base_uri": "https://localhost:8080/"
        },
        "outputId": "1b9e1726-b8cc-4a00-fa94-84b272cc8434"
      },
      "id": "SvF8gutvvnZD",
      "execution_count": null,
      "outputs": [
        {
          "output_type": "stream",
          "name": "stdout",
          "text": [
            "The result is: 15.0\n"
          ]
        }
      ]
    },
    {
      "cell_type": "markdown",
      "id": "a3c015b6",
      "metadata": {
        "id": "a3c015b6"
      },
      "source": [
        "\n",
        "## Part 2: Operators\n",
        "\n",
        "### Exercise 3\n",
        "Perform the following arithmetic operations and print the results:\n",
        "1. Addition of two numbers.\n",
        "2. Subtraction of one number from another.\n",
        "3. Multiplication of two numbers.\n",
        "4. Division of one number by another.\n"
      ]
    },
    {
      "cell_type": "code",
      "source": [
        "addvar = 8+2\n",
        "subvar = 12-2\n",
        "multvar = 5*2\n",
        "divvar = 100/10\n",
        "print(addvar, subvar, multvar, divvar)"
      ],
      "metadata": {
        "id": "zamuhw5Nvqzz",
        "colab": {
          "base_uri": "https://localhost:8080/"
        },
        "outputId": "f963233e-ac98-4e11-8012-4ddc70cbf66e"
      },
      "id": "zamuhw5Nvqzz",
      "execution_count": null,
      "outputs": [
        {
          "output_type": "stream",
          "name": "stdout",
          "text": [
            "10 10 10 10.0\n"
          ]
        }
      ]
    },
    {
      "cell_type": "markdown",
      "id": "f980daed",
      "metadata": {
        "id": "f980daed"
      },
      "source": [
        "\n",
        "### Exercise 4\n",
        "Use comparison and logical operators to evaluate the following expressions and print the results:\n",
        "1. Is 10 greater than 5?\n",
        "2. Is 3 less than or equal to 3?\n",
        "3. Is 7 equal to 8?\n",
        "4. Is 5 greater than 3 and 2 less than 4?\n"
      ]
    },
    {
      "cell_type": "code",
      "source": [
        "10 >= 5"
      ],
      "metadata": {
        "id": "XppOrgdkvsek",
        "colab": {
          "base_uri": "https://localhost:8080/"
        },
        "outputId": "91cd2f5a-856f-4712-be0c-b52dbb5ec441"
      },
      "id": "XppOrgdkvsek",
      "execution_count": null,
      "outputs": [
        {
          "output_type": "execute_result",
          "data": {
            "text/plain": [
              "True"
            ]
          },
          "metadata": {},
          "execution_count": 8
        }
      ]
    },
    {
      "cell_type": "code",
      "source": [
        "3 <= 3"
      ],
      "metadata": {
        "colab": {
          "base_uri": "https://localhost:8080/"
        },
        "id": "2nICgJ80M2iC",
        "outputId": "c13dc138-9eae-44b5-a01d-412aa1b51bf2"
      },
      "id": "2nICgJ80M2iC",
      "execution_count": null,
      "outputs": [
        {
          "output_type": "execute_result",
          "data": {
            "text/plain": [
              "True"
            ]
          },
          "metadata": {},
          "execution_count": 9
        }
      ]
    },
    {
      "cell_type": "code",
      "source": [
        "7 == 8"
      ],
      "metadata": {
        "colab": {
          "base_uri": "https://localhost:8080/"
        },
        "id": "Ik1pvceIM2vh",
        "outputId": "f866a36c-4294-400d-8bf4-7d63b984affa"
      },
      "id": "Ik1pvceIM2vh",
      "execution_count": null,
      "outputs": [
        {
          "output_type": "execute_result",
          "data": {
            "text/plain": [
              "False"
            ]
          },
          "metadata": {},
          "execution_count": 10
        }
      ]
    },
    {
      "cell_type": "code",
      "source": [
        "5>3"
      ],
      "metadata": {
        "colab": {
          "base_uri": "https://localhost:8080/"
        },
        "id": "r_nA1LcfM259",
        "outputId": "9d3f07bb-e0a2-41f5-9470-8f3b3b50fdf9"
      },
      "id": "r_nA1LcfM259",
      "execution_count": null,
      "outputs": [
        {
          "output_type": "execute_result",
          "data": {
            "text/plain": [
              "True"
            ]
          },
          "metadata": {},
          "execution_count": 11
        }
      ]
    },
    {
      "cell_type": "code",
      "source": [
        "2<4"
      ],
      "metadata": {
        "colab": {
          "base_uri": "https://localhost:8080/"
        },
        "id": "yTkkVMIVM3eX",
        "outputId": "1c91f08d-ea73-44cf-bd41-c70819508702"
      },
      "id": "yTkkVMIVM3eX",
      "execution_count": null,
      "outputs": [
        {
          "output_type": "execute_result",
          "data": {
            "text/plain": [
              "True"
            ]
          },
          "metadata": {},
          "execution_count": 12
        }
      ]
    },
    {
      "cell_type": "markdown",
      "id": "2d983229",
      "metadata": {
        "id": "2d983229"
      },
      "source": [
        "\n",
        "## Part 3: Errors and Debugging\n",
        "\n",
        "### Exercise 5\n",
        "The following code contains syntax and runtime errors. Identify and correct them.\n"
      ]
    },
    {
      "cell_type": "code",
      "source": [
        "\n",
        "# The code below has errors. Fix them.\n",
        "#my Variable = \"This is my first string\";\n",
        "#2remove = \" first\";\n",
        "#final String = my Variable - 2remove;\n",
        "#print(final String);\n"
      ],
      "metadata": {
        "id": "j4_bjx1dvuiZ"
      },
      "id": "j4_bjx1dvuiZ",
      "execution_count": null,
      "outputs": []
    },
    {
      "cell_type": "code",
      "source": [
        "my_variable = \"This is my first string\"\n",
        "final_string = my_variable.replace('first ', '')\n",
        "#cannot use - operator for strings, cannot convert non numerical strings to int\n",
        "print(final_string)"
      ],
      "metadata": {
        "colab": {
          "base_uri": "https://localhost:8080/"
        },
        "id": "L3hITV_QNDA7",
        "outputId": "b4d1a271-7802-4a43-8a0e-c14a8b8a50ae"
      },
      "id": "L3hITV_QNDA7",
      "execution_count": null,
      "outputs": [
        {
          "output_type": "stream",
          "name": "stdout",
          "text": [
            "This is my string\n"
          ]
        }
      ]
    },
    {
      "cell_type": "markdown",
      "id": "d518bb80",
      "metadata": {
        "id": "d518bb80"
      },
      "source": [
        "\n",
        "## Part 4: Print Statements\n",
        "\n",
        "### Exercise 6\n",
        "Use print statements to display the following:\n",
        "1. A string that says \"Hello, World!\"\n",
        "2. A formatted string that includes the values of two variables.\n"
      ]
    },
    {
      "cell_type": "code",
      "source": [
        "print(\"Hello, World!\")"
      ],
      "metadata": {
        "id": "PGuvP7m3w172",
        "colab": {
          "base_uri": "https://localhost:8080/"
        },
        "outputId": "2f1840f6-c6b3-48ea-b351-92b5ebad6c24"
      },
      "id": "PGuvP7m3w172",
      "execution_count": null,
      "outputs": [
        {
          "output_type": "stream",
          "name": "stdout",
          "text": [
            "Hello, World!\n"
          ]
        }
      ]
    },
    {
      "cell_type": "code",
      "source": [
        "print(\"The previous variables in this worksheet are: string_variable: \"+string_variable+\" & final_string: \"+final_string)"
      ],
      "metadata": {
        "colab": {
          "base_uri": "https://localhost:8080/"
        },
        "id": "iYadOl1JOgId",
        "outputId": "4a6b6bd1-3518-46a4-a16c-816e4203086b"
      },
      "id": "iYadOl1JOgId",
      "execution_count": null,
      "outputs": [
        {
          "output_type": "stream",
          "name": "stdout",
          "text": [
            "The previous variables in this worksheet are: string_variable: I used to know more digits of pi & final_string: This is my string\n"
          ]
        }
      ]
    },
    {
      "cell_type": "markdown",
      "id": "c21ec108",
      "metadata": {
        "id": "c21ec108"
      },
      "source": [
        "\n",
        "### Exercise 7\n",
        "Print multiple variables each on their own line using a **single** print statement.\n"
      ]
    },
    {
      "cell_type": "code",
      "source": [
        "print(string_variable + \"\\n\" + final_string, sep=\"\\n\")"
      ],
      "metadata": {
        "id": "gq6QZ9Qiw3ur",
        "colab": {
          "base_uri": "https://localhost:8080/"
        },
        "outputId": "b9a285c0-4f8e-4db0-c183-1bbc30f136ba"
      },
      "id": "gq6QZ9Qiw3ur",
      "execution_count": null,
      "outputs": [
        {
          "output_type": "stream",
          "name": "stdout",
          "text": [
            "I used to know more digits of pi\n",
            "This is my string\n"
          ]
        }
      ]
    },
    {
      "cell_type": "markdown",
      "id": "7cceefaf",
      "metadata": {
        "id": "7cceefaf"
      },
      "source": [
        "\n",
        "## Conclusion\n",
        "\n",
        "Reflect on what you've learned in this homework. What parts were easy for you? Which ones were challenging? Write a few sentences below.\n"
      ]
    },
    {
      "cell_type": "markdown",
      "source": [
        "I was too eager to run each cell without checking first mentally if it would work or not. For example, I should have realized without hitting run that I could not concatenate and int + float within a print statement. The mathematical operators were easier than figuring out how to separate a string into separate lines."
      ],
      "metadata": {
        "id": "s5_C3E4vQalQ"
      },
      "id": "s5_C3E4vQalQ"
    }
  ],
  "metadata": {
    "colab": {
      "provenance": []
    },
    "language_info": {
      "name": "python"
    },
    "kernelspec": {
      "name": "python3",
      "display_name": "Python 3"
    }
  },
  "nbformat": 4,
  "nbformat_minor": 5
}